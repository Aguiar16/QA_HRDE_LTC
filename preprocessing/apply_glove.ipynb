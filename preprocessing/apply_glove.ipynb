{
 "cells": [
  {
   "cell_type": "code",
   "execution_count": 1,
   "metadata": {
    "collapsed": false
   },
   "outputs": [],
   "source": [
    "import pickle\n",
    "import cPickle\n",
    "import numpy as np\n",
    "import operator"
   ]
  },
  {
   "cell_type": "code",
   "execution_count": 2,
   "metadata": {
    "collapsed": false
   },
   "outputs": [],
   "source": [
    "def loadGloveModel(gloveFile):\n",
    "    print \"Loading Glove Model\"\n",
    "    f = open(gloveFile,'r')\n",
    "    model = {}\n",
    "    for line in f:\n",
    "        splitLine = line.split()\n",
    "        word = splitLine[0]\n",
    "        embedding = [float(val) for val in splitLine[1:]]\n",
    "        model[word] = embedding\n",
    "    print \"Done.\",len(model),\" words loaded!\"\n",
    "    return model"
   ]
  },
  {
   "cell_type": "code",
   "execution_count": 3,
   "metadata": {
    "collapsed": true
   },
   "outputs": [],
   "source": [
    "def cal_coverage_num(voca):\n",
    "\n",
    "    has_cnt = 0\n",
    "    total_cnt = 0\n",
    "    \n",
    "    for token in voca.keys():\n",
    "        \n",
    "        total_cnt += voca[token]\n",
    "        \n",
    "        if glove.has_key( token ):\n",
    "            has_cnt += voca[token]\n",
    "        else:\n",
    "            ;\n",
    "\n",
    "    print 'coverage_num : ' + str( ( has_cnt/ float( total_cnt ) ) ) "
   ]
  },
  {
   "cell_type": "code",
   "execution_count": 4,
   "metadata": {
    "collapsed": true
   },
   "outputs": [],
   "source": [
    "def cal_coverage(voca):\n",
    "\n",
    "    cnt = 0\n",
    "    for token in voca.keys():\n",
    "        if glove.has_key( token ):\n",
    "            ;\n",
    "        else:\n",
    "            cnt = cnt + 1\n",
    "\n",
    "    print '# missing token : ' + str(cnt)\n",
    "    print 'coverage : ' + str( 1 - ( cnt/ float(len(voca)) ) ) "
   ]
  },
  {
   "cell_type": "code",
   "execution_count": 18,
   "metadata": {
    "collapsed": true
   },
   "outputs": [],
   "source": [
    "def create_glove_embedding(voca):\n",
    "\n",
    "    # sorting voca dic by value\n",
    "    sorted_voca = sorted(voca.items(), key=operator.itemgetter(1))\n",
    "    \n",
    "    list_glove_voca = []\n",
    "\n",
    "    cnt = 0\n",
    "\n",
    "    for token, value in sorted_voca:\n",
    "\n",
    "        if glove.has_key( token ):\n",
    "            list_glove_voca.append( glove[token] )\n",
    "        else:\n",
    "            if token is '_PAD_':\n",
    "#             if token is '':    # pad case\n",
    "                list_glove_voca.append( np.zeros(300) )  \n",
    "            else:\n",
    "                list_glove_voca.append( np.random.uniform(-0.25, 0.25, 300).tolist() )\n",
    "                cnt = cnt + 1  \n",
    "\n",
    "    print 'coverage : ' + str( 1 - ( cnt/ float(len(voca)) ) )\n",
    "    return list_glove_voca"
   ]
  },
  {
   "cell_type": "code",
   "execution_count": null,
   "metadata": {
    "collapsed": false
   },
   "outputs": [],
   "source": []
  },
  {
   "cell_type": "code",
   "execution_count": 7,
   "metadata": {
    "collapsed": false
   },
   "outputs": [
    {
     "name": "stdout",
     "output_type": "stream",
     "text": [
      "Loading Glove Model\n",
      "Done. 2196016  words loaded!\n"
     ]
    }
   ],
   "source": [
    "glove = loadGloveModel('../data/embedding/glove.840B.300d.txt')\n",
    "# glove2 = loadGloveModel('../data/embedding/glove.twitter.27B.200d.txt')"
   ]
  },
  {
   "cell_type": "code",
   "execution_count": null,
   "metadata": {
    "collapsed": true
   },
   "outputs": [],
   "source": []
  },
  {
   "cell_type": "code",
   "execution_count": null,
   "metadata": {
    "collapsed": true
   },
   "outputs": [],
   "source": []
  },
  {
   "cell_type": "markdown",
   "metadata": {},
   "source": [
    "### ubuntu-v1 case"
   ]
  },
  {
   "cell_type": "code",
   "execution_count": 39,
   "metadata": {
    "collapsed": true
   },
   "outputs": [],
   "source": [
    "def load_voca_v1(file_name):\n",
    "    \n",
    "    W, voca = cPickle.load(open(file_name, 'rb') )\n",
    "    voca['_PAD_'] = 0\n",
    "    \n",
    "    index2word = {}\n",
    "    for w in voca:\n",
    "        index2word[voca[w]] = w\n",
    "    \n",
    "    return voca, index2word"
   ]
  },
  {
   "cell_type": "code",
   "execution_count": 40,
   "metadata": {
    "collapsed": true
   },
   "outputs": [],
   "source": [
    "# from original data\n",
    "voca_v1, index_v1 = load_voca_v1('../data/ubuntu_v1/W.pkl')"
   ]
  },
  {
   "cell_type": "code",
   "execution_count": 41,
   "metadata": {
    "collapsed": false
   },
   "outputs": [
    {
     "name": "stdout",
     "output_type": "stream",
     "text": [
      "# missing token : 16047\n",
      "coverage : 0.889295150842\n",
      "coverage : 0.88930204963\n"
     ]
    },
    {
     "data": {
      "text/plain": [
       "144953"
      ]
     },
     "execution_count": 41,
     "metadata": {},
     "output_type": "execute_result"
    }
   ],
   "source": [
    "cal_coverage(voca_v1)\n",
    "list_glove_voca_v1 = create_glove_embedding(voca_v1)\n",
    "len(list_glove_voca_v1)"
   ]
  },
  {
   "cell_type": "code",
   "execution_count": null,
   "metadata": {
    "collapsed": true
   },
   "outputs": [],
   "source": [
    "pickle.dump( np.asarray(list_glove_voca_v1), open('../data/ubuntu_v1/v1_glove.pkl', 'wb'))"
   ]
  },
  {
   "cell_type": "code",
   "execution_count": null,
   "metadata": {
    "collapsed": true
   },
   "outputs": [],
   "source": []
  },
  {
   "cell_type": "code",
   "execution_count": null,
   "metadata": {
    "collapsed": true
   },
   "outputs": [],
   "source": []
  },
  {
   "cell_type": "markdown",
   "metadata": {},
   "source": [
    "### ubuntu-v2 case"
   ]
  },
  {
   "cell_type": "code",
   "execution_count": 42,
   "metadata": {
    "collapsed": false
   },
   "outputs": [
    {
     "data": {
      "text/plain": [
       "183045"
      ]
     },
     "execution_count": 42,
     "metadata": {},
     "output_type": "execute_result"
    }
   ],
   "source": [
    "voca = pickle.load( open('../data/ubuntu_v2/v2_dic.pkl', 'r') )\n",
    "len(voca)"
   ]
  },
  {
   "cell_type": "code",
   "execution_count": 43,
   "metadata": {
    "collapsed": false
   },
   "outputs": [
    {
     "name": "stdout",
     "output_type": "stream",
     "text": [
      "# missing token : 89663\n",
      "coverage : 0.510158704144\n",
      "coverage_num : 0.510152690705\n",
      "coverage : 0.510158704144\n"
     ]
    },
    {
     "data": {
      "text/plain": [
       "183045"
      ]
     },
     "execution_count": 43,
     "metadata": {},
     "output_type": "execute_result"
    }
   ],
   "source": [
    "cal_coverage(voca)\n",
    "cal_coverage_num(voca)\n",
    "list_glove_voca = create_glove_embedding(voca)\n",
    "len(list_glove_voca)"
   ]
  },
  {
   "cell_type": "code",
   "execution_count": null,
   "metadata": {
    "collapsed": true
   },
   "outputs": [],
   "source": [
    "pickle.dump( np.asarray(list_glove_voca), open('../data/ubuntu_v2/v2_glove.pkl', 'w'))"
   ]
  },
  {
   "cell_type": "code",
   "execution_count": null,
   "metadata": {
    "collapsed": true
   },
   "outputs": [],
   "source": []
  },
  {
   "cell_type": "code",
   "execution_count": null,
   "metadata": {
    "collapsed": true
   },
   "outputs": [],
   "source": []
  },
  {
   "cell_type": "markdown",
   "metadata": {},
   "source": [
    "### samsung QA case"
   ]
  },
  {
   "cell_type": "code",
   "execution_count": 44,
   "metadata": {
    "collapsed": false
   },
   "outputs": [
    {
     "data": {
      "text/plain": [
       "28848"
      ]
     },
     "execution_count": 44,
     "metadata": {},
     "output_type": "execute_result"
    }
   ],
   "source": [
    "voca = pickle.load( open('../data/samsungQA/SA_dic.pkl', 'r') )\n",
    "len(voca)"
   ]
  },
  {
   "cell_type": "code",
   "execution_count": 45,
   "metadata": {
    "collapsed": false
   },
   "outputs": [
    {
     "name": "stdout",
     "output_type": "stream",
     "text": [
      "# missing token : 10649\n",
      "coverage : 0.630858291736\n",
      "coverage_num : 0.633701018018\n",
      "coverage : 0.630858291736\n"
     ]
    },
    {
     "data": {
      "text/plain": [
       "28848"
      ]
     },
     "execution_count": 45,
     "metadata": {},
     "output_type": "execute_result"
    }
   ],
   "source": [
    "cal_coverage(voca)\n",
    "cal_coverage_num(voca)\n",
    "list_glove_voca = create_glove_embedding(voca)\n",
    "len(list_glove_voca)"
   ]
  },
  {
   "cell_type": "code",
   "execution_count": null,
   "metadata": {
    "collapsed": true
   },
   "outputs": [],
   "source": [
    "pickle.dump( np.asarray(list_glove_voca), open('../data/samsungQA/SA_glove.pkl', 'w'))"
   ]
  },
  {
   "cell_type": "code",
   "execution_count": null,
   "metadata": {
    "collapsed": true
   },
   "outputs": [],
   "source": []
  },
  {
   "cell_type": "code",
   "execution_count": null,
   "metadata": {
    "collapsed": true
   },
   "outputs": [],
   "source": []
  }
 ],
 "metadata": {
  "anaconda-cloud": {},
  "kernelspec": {
   "display_name": "Python 2",
   "language": "python",
   "name": "python2"
  },
  "language_info": {
   "codemirror_mode": {
    "name": "ipython",
    "version": 2
   },
   "file_extension": ".py",
   "mimetype": "text/x-python",
   "name": "python",
   "nbconvert_exporter": "python",
   "pygments_lexer": "ipython2",
   "version": "2.7.12"
  }
 },
 "nbformat": 4,
 "nbformat_minor": 2
}
