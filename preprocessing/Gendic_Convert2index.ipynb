{
 "cells": [
  {
   "cell_type": "code",
   "execution_count": 3,
   "metadata": {
    "collapsed": false
   },
   "outputs": [],
   "source": [
    "from pre_processing import *\n",
    "import pickle"
   ]
  },
  {
   "cell_type": "markdown",
   "metadata": {},
   "source": [
    "## create dictionary\n"
   ]
  },
  {
   "cell_type": "code",
   "execution_count": 4,
   "metadata": {
    "collapsed": true
   },
   "outputs": [],
   "source": [
    "def read_train(dic, file_name):\n",
    "\n",
    "    print 'data read : ' + file_name\n",
    "\n",
    "    f = open(file_name, 'r')\n",
    "    csvReader = csv.reader(f)\n",
    "    for row in csvReader:\n",
    "        \n",
    "        for i in xrange(2):\n",
    "            for token in row[i].split(\" \"):\n",
    "                \n",
    "                token = token.lower().strip()\n",
    "                \n",
    "                dic_ori[token] += 1\n",
    "        \n",
    "    f.close()\n",
    "    \n",
    "    return dic"
   ]
  },
  {
   "cell_type": "code",
   "execution_count": 5,
   "metadata": {
    "collapsed": true
   },
   "outputs": [],
   "source": [
    "def read_test(dic, file_name):\n",
    "\n",
    "    print 'data read : ' + file_name\n",
    "\n",
    "    f = open(file_name, 'r')\n",
    "    csvReader = csv.reader(f)\n",
    "    \n",
    "    count = 0\n",
    "    \n",
    "    for row in csvReader:\n",
    "\n",
    "        if count == 0:\n",
    "            for i in xrange(2):\n",
    "                for token in row[i].split(\" \"):\n",
    "                    \n",
    "                    token = token.lower().strip()\n",
    "                    \n",
    "                    dic[token] += 1\n",
    "        else:\n",
    "            for token in row[1].split(\" \"):\n",
    "                \n",
    "                    token = token.lower().strip()\n",
    "                    \n",
    "                    dic[token] += 1\n",
    "\n",
    "        count = count +1\n",
    "        if count == 10:\n",
    "            count = 0\n",
    "    \n",
    "    return dic"
   ]
  },
  {
   "cell_type": "code",
   "execution_count": null,
   "metadata": {
    "collapsed": true
   },
   "outputs": [],
   "source": []
  },
  {
   "cell_type": "markdown",
   "metadata": {},
   "source": [
    "..."
   ]
  },
  {
   "cell_type": "markdown",
   "metadata": {},
   "source": [
    "### corona"
   ]
  },
  {
   "cell_type": "code",
   "execution_count": 6,
   "metadata": {},
   "outputs": [
    {
     "name": "stdout",
     "output_type": "stream",
     "text": [
      "data read : ../data/corona/train.csv\n",
      "91531\n",
      "data read : ../data/corona/valid.csv\n",
      "91729\n"
     ]
    }
   ],
   "source": [
    "dic_ori = defaultdict(int)\n",
    "\n",
    "dic_ori = read_train(dic_ori, '../data/corona/train.csv')\n",
    "print len(dic_ori)\n",
    "\n",
    "dic_ori = read_test(dic_ori, '../data/corona/valid.csv')\n",
    "print len(dic_ori)"
   ]
  },
  {
   "cell_type": "code",
   "execution_count": 7,
   "metadata": {},
   "outputs": [],
   "source": [
    "pickle.dump( dic_ori, open('../data/corona/dic_ori.pkl', 'w')  )"
   ]
  },
  {
   "cell_type": "markdown",
   "metadata": {},
   "source": [
    "### ubuntu-v2"
   ]
  },
  {
   "cell_type": "code",
   "execution_count": 69,
   "metadata": {
    "collapsed": false
   },
   "outputs": [
    {
     "name": "stdout",
     "output_type": "stream",
     "text": [
      "data read : ../data/ubuntu_v2/train.csv\n",
      "783892\n",
      "data read : ../data/ubuntu_v2/valid.csv\n",
      "803395\n",
      "data read : ../data/ubuntu_v2/test.csv\n",
      "823144\n"
     ]
    }
   ],
   "source": [
    "dic_ori = defaultdict(int)\n",
    "\n",
    "dic_ori = read_train(dic_ori, '../data/ubuntu_v2/train.csv')\n",
    "print len(dic_ori)\n",
    "\n",
    "dic_ori = read_test(dic_ori, '../data/ubuntu_v2/valid.csv')\n",
    "print len(dic_ori)"
   ]
  },
  {
   "cell_type": "code",
   "execution_count": 70,
   "metadata": {
    "collapsed": false
   },
   "outputs": [],
   "source": [
    "pickle.dump( dic_ori, open('../data/ubuntu_v2/dic_ori.pkl', 'w')  )"
   ]
  },
  {
   "cell_type": "code",
   "execution_count": null,
   "metadata": {
    "collapsed": false
   },
   "outputs": [],
   "source": []
  },
  {
   "cell_type": "markdown",
   "metadata": {},
   "source": [
    "### Samsung QA"
   ]
  },
  {
   "cell_type": "code",
   "execution_count": 8,
   "metadata": {
    "collapsed": false
   },
   "outputs": [
    {
     "name": "stdout",
     "output_type": "stream",
     "text": [
      "data read : ../data/samsungQA/train.csv\n",
      "35676\n",
      "data read : ../data/samsungQA/valid.csv\n",
      "36889\n"
     ]
    }
   ],
   "source": [
    "dic_ori = defaultdict(int)\n",
    "\n",
    "dic_ori = read_train(dic_ori, '../data/samsungQA/train.csv')\n",
    "print len(dic_ori)\n",
    "\n",
    "dic_ori = read_train(dic_ori, '../data/samsungQA/valid.csv')\n",
    "print len(dic_ori)"
   ]
  },
  {
   "cell_type": "code",
   "execution_count": 9,
   "metadata": {
    "collapsed": true
   },
   "outputs": [],
   "source": [
    "pickle.dump( dic_ori, open('../data/samsungQA/dic_ori.pkl', 'w')  )"
   ]
  },
  {
   "cell_type": "code",
   "execution_count": null,
   "metadata": {
    "collapsed": false
   },
   "outputs": [],
   "source": []
  },
  {
   "cell_type": "markdown",
   "metadata": {},
   "source": [
    "## reducing dictionary"
   ]
  },
  {
   "cell_type": "code",
   "execution_count": 10,
   "metadata": {
    "collapsed": false
   },
   "outputs": [],
   "source": [
    "pp = PRE_PROCESSING()"
   ]
  },
  {
   "cell_type": "code",
   "execution_count": 11,
   "metadata": {
    "collapsed": false
   },
   "outputs": [],
   "source": [
    "dic_ori = pickle.load( open('../data/corona/dic_ori.pkl', 'r') )\n",
    "#dic_ori = pickle.load( open('../data/ubuntu_v2/dic_ori.pkl', 'r') )\n",
    "# dic_ori = pickle.load( open('../data/samsungQA/dic_ori.pkl', 'r') )"
   ]
  },
  {
   "cell_type": "code",
   "execution_count": 12,
   "metadata": {
    "collapsed": false
   },
   "outputs": [
    {
     "data": {
      "text/plain": [
       "91729"
      ]
     },
     "execution_count": 12,
     "metadata": {},
     "output_type": "execute_result"
    }
   ],
   "source": [
    "len(dic_ori)"
   ]
  },
  {
   "cell_type": "code",
   "execution_count": 13,
   "metadata": {
    "collapsed": false
   },
   "outputs": [
    {
     "name": "stdout",
     "output_type": "stream",
     "text": [
      "apply minCut and re-generate minCutDic\n",
      "minFreq = 3\n",
      "original dic size = 91729\n",
      "original dic word freq = 6087397\n",
      "minCut dic size = 21413\n",
      "minCut dic word freq = 5995869\n",
      "coverage = 0.984964345187\n",
      "21413\n"
     ]
    }
   ],
   "source": [
    "pp.frequency_ori = dic_ori\n",
    "dic = pp._apply_mincut(3)\n",
    "print len(dic)"
   ]
  },
  {
   "cell_type": "code",
   "execution_count": 14,
   "metadata": {
    "collapsed": false
   },
   "outputs": [
    {
     "name": "stdout",
     "output_type": "stream",
     "text": [
      "21415\n"
     ]
    }
   ],
   "source": [
    "voca = {}\n",
    "\n",
    "voca['_PAD_'] = len(voca)\n",
    "voca['_UNK_'] = len(voca)\n",
    "\n",
    "for word in dic.keys():\n",
    "    voca[word] = len(voca)    \n",
    "    \n",
    "print len(voca)"
   ]
  },
  {
   "cell_type": "code",
   "execution_count": 15,
   "metadata": {
    "collapsed": true
   },
   "outputs": [],
   "source": [
    "pickle.dump( voca, open('../data/corona/corona_dic.pkl', 'w')  )\n",
    "#pickle.dump( voca, open('../data/ubuntu_v2/v2_dic.pkl', 'w')  )\n",
    "# pickle.dump( voca, open('../data/samsungQA/SA_dic.pkl', 'w')  )"
   ]
  },
  {
   "cell_type": "code",
   "execution_count": null,
   "metadata": {
    "collapsed": false
   },
   "outputs": [],
   "source": []
  },
  {
   "cell_type": "markdown",
   "metadata": {},
   "source": [
    "### convert data to index format"
   ]
  },
  {
   "cell_type": "code",
   "execution_count": 16,
   "metadata": {
    "collapsed": true
   },
   "outputs": [],
   "source": [
    "import csv\n",
    "import pickle\n",
    "from Vocab import *"
   ]
  },
  {
   "cell_type": "code",
   "execution_count": 17,
   "metadata": {
    "collapsed": false
   },
   "outputs": [
    {
     "data": {
      "text/plain": [
       "21415"
      ]
     },
     "execution_count": 17,
     "metadata": {},
     "output_type": "execute_result"
    }
   ],
   "source": [
    "# v2\n",
    "dic = pickle.load(open('../data/corona/corona_dic.pkl', 'r') )\n",
    "\n",
    "# v2\n",
    "#dic = pickle.load(open('../data/ubuntu_v2/v2_dic.pkl', 'r') )\n",
    "\n",
    "# SA\n",
    "# dic = pickle.load(open('../data/samsungQA/SA_dic.pkl', 'r') )\n",
    "len(dic)"
   ]
  },
  {
   "cell_type": "code",
   "execution_count": 18,
   "metadata": {
    "collapsed": false
   },
   "outputs": [],
   "source": [
    "v = Vocab(dic)"
   ]
  },
  {
   "cell_type": "code",
   "execution_count": null,
   "metadata": {
    "collapsed": false
   },
   "outputs": [],
   "source": []
  },
  {
   "cell_type": "code",
   "execution_count": 19,
   "metadata": {
    "collapsed": false
   },
   "outputs": [],
   "source": [
    "train_data = []\n",
    "\n",
    "f = open('../data/corona/train.csv', 'r')\n",
    "#f = open('../data/ubuntu_v2/train.csv', 'r')\n",
    "# f = open('../data/samsungQA/train.csv', 'r')\n",
    "csvReader = csv.reader(f)\n",
    "for row in csvReader:\n",
    "    train_data.append(row)\n",
    "f.close()"
   ]
  },
  {
   "cell_type": "code",
   "execution_count": 20,
   "metadata": {
    "collapsed": false
   },
   "outputs": [],
   "source": [
    "val_data = []\n",
    "\n",
    "f = open('../data/corona/valid.csv', 'r')\n",
    "#f = open('../data/ubuntu_v2/valid.csv', 'r')\n",
    "# f = open('../data/samsungQA/valid.csv', 'r')\n",
    "csvReader = csv.reader(f)\n",
    "for row in csvReader:\n",
    "    val_data.append(row)\n",
    "f.close()"
   ]
  },
  {
   "cell_type": "code",
   "execution_count": 21,
   "metadata": {
    "collapsed": false
   },
   "outputs": [],
   "source": [
    "test_data = []\n",
    "\n",
    "f = open('../data/corona/test.csv', 'r')\n",
    "#f = open('../data/ubuntu_v2/test.csv', 'r')\n",
    "# f = open('../data/samsungQA/test.csv', 'r')\n",
    "csvReader = csv.reader(f)\n",
    "for row in csvReader:\n",
    "    test_data.append(row)\n",
    "f.close()"
   ]
  },
  {
   "cell_type": "code",
   "execution_count": null,
   "metadata": {
    "collapsed": true
   },
   "outputs": [],
   "source": []
  },
  {
   "cell_type": "code",
   "execution_count": 22,
   "metadata": {
    "collapsed": true
   },
   "outputs": [],
   "source": [
    "def find_index(word, dic):\n",
    "    \n",
    "    word = word.lower().strip()\n",
    "    \n",
    "    if dic.has_key(word):\n",
    "        return dic[word]\n",
    "    else:\n",
    "        return dic['_UNK_']"
   ]
  },
  {
   "cell_type": "code",
   "execution_count": 23,
   "metadata": {
    "collapsed": false
   },
   "outputs": [],
   "source": [
    "def create_data_index(dataset):\n",
    "    data_set = {}\n",
    "\n",
    "    context = []\n",
    "    for sent in dataset:\n",
    "        context.append( [ find_index(x, dic) for x in sent[0].split(' ')] )\n",
    "\n",
    "    response = []\n",
    "    for sent in dataset:\n",
    "        response.append( [find_index(x, dic) for x in sent[1].split(' ')] )\n",
    "\n",
    "    label = [ x[2] for x in dataset ]\n",
    "\n",
    "    data_set['c'] = context\n",
    "    data_set['r'] = response\n",
    "    data_set['y'] = label\n",
    "\n",
    "    len(data_set)\n",
    "    \n",
    "    return data_set"
   ]
  },
  {
   "cell_type": "code",
   "execution_count": null,
   "metadata": {
    "collapsed": false
   },
   "outputs": [],
   "source": []
  },
  {
   "cell_type": "code",
   "execution_count": 24,
   "metadata": {
    "collapsed": false
   },
   "outputs": [],
   "source": [
    "train_set = create_data_index(train_data)"
   ]
  },
  {
   "cell_type": "code",
   "execution_count": 25,
   "metadata": {
    "collapsed": false
   },
   "outputs": [],
   "source": [
    "valid_set = create_data_index(val_data)"
   ]
  },
  {
   "cell_type": "code",
   "execution_count": 26,
   "metadata": {
    "collapsed": false
   },
   "outputs": [],
   "source": [
    "test_set = create_data_index(test_data)"
   ]
  },
  {
   "cell_type": "code",
   "execution_count": null,
   "metadata": {
    "collapsed": false
   },
   "outputs": [],
   "source": []
  },
  {
   "cell_type": "code",
   "execution_count": 45,
   "metadata": {
    "collapsed": false
   },
   "outputs": [
    {
     "data": {
      "text/plain": [
       "['what is data roaming in more networks ? __eos__',\n",
       " 'data roaming allows you to connect to your service provider \\xe2\\x80\\x99 s partner networks and access data services when you are out of your service providers area of coverage . __eos__ 1from the main settings screen , tap more networks \\xe2\\x9e\\x94 mobile networks . 2 tap data roaming to create a checkmark and activate the feature . __eos__',\n",
       " '1']"
      ]
     },
     "execution_count": 45,
     "metadata": {},
     "output_type": "execute_result"
    }
   ],
   "source": [
    "train_data[1100]"
   ]
  },
  {
   "cell_type": "code",
   "execution_count": 46,
   "metadata": {
    "collapsed": false
   },
   "outputs": [
    {
     "data": {
      "text/plain": [
       "'what is data roaming in more networks ? __eos__'"
      ]
     },
     "execution_count": 46,
     "metadata": {},
     "output_type": "execute_result"
    }
   ],
   "source": [
    "v.index2sent( train_set['c'][1100] )"
   ]
  },
  {
   "cell_type": "code",
   "execution_count": 47,
   "metadata": {
    "collapsed": false
   },
   "outputs": [
    {
     "data": {
      "text/plain": [
       "'data roaming allows you to connect to your service provider \\xe2\\x80\\x99 s partner networks and access data services when you are out of your service providers area of coverage . __eos__ 1from the main settings screen , tap more networks \\xe2\\x9e\\x94 mobile networks . 2 tap data roaming to create a checkmark and activate the feature . __eos__'"
      ]
     },
     "execution_count": 47,
     "metadata": {},
     "output_type": "execute_result"
    }
   ],
   "source": [
    "v.index2sent( train_set['r'][1100] )"
   ]
  },
  {
   "cell_type": "code",
   "execution_count": 48,
   "metadata": {
    "collapsed": false
   },
   "outputs": [
    {
     "data": {
      "text/plain": [
       "['health and safety information operating environment potentially explosive environments __eos__',\n",
       " 'switch your mobile device off when in any area with a potentially explosive atmosphere and obey all signs and instructions . __eos__ sparks in such areas could cause an explosion 118 or fire resulting in bodily injury or even death . __eos__ users are advised to switch the mobile device off while at a refueling point ( service station ) . __eos__ users are reminded of the need to observe restrictions on the use of radio equipment in fuel depots ( fuel storage and distribution areas ) , chemical plants , or where blasting operations are in progress . __eos__ areas with a potentially explosive atmosphere are often , but not always , clearly marked . __eos__ they include below deck on boats , chemical transfer or storage facilities , vehicles using liquefied petroleum gas ( such as propane or butane ) , areas where the air contains chemicals or particles , such as grain , dust , or metal powders , and any other area where you would normally be advised to turn off your vehicle engine . __eos__ vehicles using liquefied petroleum gas ( such as propane or butane ) must comply with the national fire protection standard ( nfpa - 58 ) . __eos__ for a copy of this standard , contact the national fire protection association . __eos__',\n",
       " '1']"
      ]
     },
     "execution_count": 48,
     "metadata": {},
     "output_type": "execute_result"
    }
   ],
   "source": [
    "val_data[100]"
   ]
  },
  {
   "cell_type": "code",
   "execution_count": 49,
   "metadata": {
    "collapsed": false
   },
   "outputs": [
    {
     "data": {
      "text/plain": [
       "'health and safety information operating environment potentially explosive environments __eos__'"
      ]
     },
     "execution_count": 49,
     "metadata": {},
     "output_type": "execute_result"
    }
   ],
   "source": [
    "v.index2sent( valid_set['c'][100] )"
   ]
  },
  {
   "cell_type": "code",
   "execution_count": 50,
   "metadata": {
    "collapsed": false
   },
   "outputs": [
    {
     "data": {
      "text/plain": [
       "'switch your mobile device off when in any area with a potentially explosive atmosphere and obey all signs and instructions . __eos__ sparks in such areas could cause an explosion 118 or fire resulting in bodily injury or even death . __eos__ users are advised to switch the mobile device off while at a refueling point ( service station ) . __eos__ users are reminded of the need to observe restrictions on the use of radio equipment in fuel depots ( fuel storage and distribution areas ) , chemical plants , or where blasting operations are in progress . __eos__ areas with a potentially explosive atmosphere are often , but not always , clearly marked . __eos__ they include below deck on boats , chemical transfer or storage facilities , vehicles using liquefied petroleum gas ( such as propane or butane ) , areas where the air contains chemicals or particles , such as grain , dust , or metal powders , and any other area where you would normally be advised to turn off your vehicle engine . __eos__ vehicles using liquefied petroleum gas ( such as propane or butane ) must comply with the national fire protection standard ( nfpa - 58 ) . __eos__ for a copy of this standard , contact the national fire protection association . __eos__'"
      ]
     },
     "execution_count": 50,
     "metadata": {},
     "output_type": "execute_result"
    }
   ],
   "source": [
    "v.index2sent( valid_set['r'][100] )"
   ]
  },
  {
   "cell_type": "code",
   "execution_count": 51,
   "metadata": {
    "collapsed": false
   },
   "outputs": [
    {
     "data": {
      "text/plain": [
       "['how do i manage sent messages in message folders ? __eos__',\n",
       " '1 from the messaging menu , select sent . __eos__ your list of sent messages appear in the display . 2 highlight a message in the list . __eos__ you have the following options : to remove the highlighted message from the sent folder , press erase . __eos__ to review the highlighted message , press open . __eos__ for more options , press options . __eos__ the following options appear in the display : \\xe2\\x80\\x93 forward : send the highlighted message to another recipient . \\xe2\\x80\\x93 resend : send another copy of the highlighted message to the original recipient . \\xe2\\x80\\x93 add to contacts : save the recipient \\xe2\\x80\\x99 s number to your contacts . \\xe2\\x80\\x93 message info : show message delivery status , addressee , size , and so on . \\xe2\\x80\\x93 manage sent : choose to erase this message , to lock the message from being erased , or to unlock this message to be erased . \\xe2\\x80\\x93 sort by recipient / time : list the sent messages in order of their recipient \\xe2\\x80\\x99 s number or the time the messages were sent . __eos__ drafts 3 compose your message using the keypad , press messages in the draft folder are those that have been options , and then select save as draft . __eos__ \\xe2\\x80\\x9c message composed but never sent . __eos__ you can return to the draft folder saved \\xe2\\x80\\x9d appears in the display , and your message is at any time to view , edit , or send a draft message . __eos__ saved to the drafts folder . __eos__',\n",
       " '1']"
      ]
     },
     "execution_count": 51,
     "metadata": {},
     "output_type": "execute_result"
    }
   ],
   "source": [
    "test_data[0]"
   ]
  },
  {
   "cell_type": "code",
   "execution_count": 52,
   "metadata": {
    "collapsed": false
   },
   "outputs": [
    {
     "data": {
      "text/plain": [
       "'how do i manage sent messages in message folders ? __eos__'"
      ]
     },
     "execution_count": 52,
     "metadata": {},
     "output_type": "execute_result"
    }
   ],
   "source": [
    "v.index2sent( test_set['c'][0]  )"
   ]
  },
  {
   "cell_type": "code",
   "execution_count": 53,
   "metadata": {
    "collapsed": false
   },
   "outputs": [
    {
     "data": {
      "text/plain": [
       "'1 from the messaging menu , select sent . __eos__ your list of sent messages appear in the display . 2 highlight a message in the list . __eos__ you have the following options : to remove the highlighted message from the sent folder , press erase . __eos__ to review the highlighted message , press open . __eos__ for more options , press options . __eos__ the following options appear in the display : \\xe2\\x80\\x93 forward : send the highlighted message to another recipient . \\xe2\\x80\\x93 resend : send another copy of the highlighted message to the original recipient . \\xe2\\x80\\x93 add to contacts : save the recipient \\xe2\\x80\\x99 s number to your contacts . \\xe2\\x80\\x93 message info : show message delivery status , addressee , size , and so on . \\xe2\\x80\\x93 manage sent : choose to erase this message , to lock the message from being erased , or to unlock this message to be erased . \\xe2\\x80\\x93 sort by recipient / time : list the sent messages in order of their recipient \\xe2\\x80\\x99 s number or the time the messages were sent . __eos__ drafts 3 compose your message using the keypad , press messages in the draft folder are those that have been options , and then select save as draft . __eos__ \\xe2\\x80\\x9c message composed but never sent . __eos__ you can return to the draft folder saved \\xe2\\x80\\x9d appears in the display , and your message is at any time to view , edit , or send a draft message . __eos__ saved to the drafts folder . __eos__'"
      ]
     },
     "execution_count": 53,
     "metadata": {},
     "output_type": "execute_result"
    }
   ],
   "source": [
    "v.index2sent( test_set['r'][0]  )"
   ]
  },
  {
   "cell_type": "code",
   "execution_count": null,
   "metadata": {
    "collapsed": true
   },
   "outputs": [],
   "source": []
  },
  {
   "cell_type": "code",
   "execution_count": 25,
   "metadata": {
    "collapsed": true
   },
   "outputs": [],
   "source": [
    "valid_set = []\n",
    "test_set = []"
   ]
  },
  {
   "cell_type": "code",
   "execution_count": 27,
   "metadata": {
    "collapsed": false
   },
   "outputs": [],
   "source": [
    "pickle.dump( [train_set, valid_set, test_set], open('../data/corona/corona_data.pkl', 'w') )\n",
    "#pickle.dump( [train_set, valid_set, test_set], open('../data/ubuntu_v2/v2_data.pkl', 'w') )\n",
    "# pickle.dump( [train_set, valid_set, test_set], open('../data/samsungQA/SA_data.pkl', 'w') )"
   ]
  },
  {
   "cell_type": "code",
   "execution_count": 54,
   "metadata": {
    "collapsed": false
   },
   "outputs": [
    {
     "data": {
      "text/plain": [
       "163616"
      ]
     },
     "execution_count": 54,
     "metadata": {},
     "output_type": "execute_result"
    }
   ],
   "source": [
    "len(train_set['r'])"
   ]
  },
  {
   "cell_type": "code",
   "execution_count": 56,
   "metadata": {
    "collapsed": false
   },
   "outputs": [],
   "source": [
    "train_set_test = {}\n",
    "valid_set_test = {}\n",
    "test_set_test = {}\n",
    "\n",
    "train_set_test['c'] = train_set['c'][:500]\n",
    "train_set_test['r'] = train_set['r'][:500]\n",
    "train_set_test['y'] = train_set['y'][:500]\n",
    "\n",
    "valid_set_test['c'] = valid_set['c'][:5000]\n",
    "valid_set_test['r'] = valid_set['r'][:5000]\n",
    "valid_set_test['y'] = valid_set['y'][:5000]\n",
    "\n",
    "test_set_test['c'] = test_set['c'][:5000]\n",
    "test_set_test['r'] = test_set['r'][:5000]\n",
    "test_set_test['y'] = test_set['y'][:5000]"
   ]
  },
  {
   "cell_type": "code",
   "execution_count": 64,
   "metadata": {
    "collapsed": false
   },
   "outputs": [],
   "source": [
    "pickle.dump( [train_set_test, valid_set_test, test_set_test], open('../data/ubuntu_v2/v2_data_test.pkl', 'w') )\n",
    "# pickle.dump( [train_set_test, valid_set_test, test_set_test], open('../data/samsungQA/SA_data_test.pkl', 'w') )"
   ]
  },
  {
   "cell_type": "code",
   "execution_count": null,
   "metadata": {
    "collapsed": false
   },
   "outputs": [],
   "source": []
  }
 ],
 "metadata": {
  "kernelspec": {
   "display_name": "Python 2",
   "language": "python",
   "name": "python2"
  },
  "language_info": {
   "codemirror_mode": {
    "name": "ipython",
    "version": 2
   },
   "file_extension": ".py",
   "mimetype": "text/x-python",
   "name": "python",
   "nbconvert_exporter": "python",
   "pygments_lexer": "ipython2",
   "version": "2.7.18"
  }
 },
 "nbformat": 4,
 "nbformat_minor": 2
}
