{
 "cells": [
  {
   "cell_type": "code",
   "execution_count": 1,
   "metadata": {
    "collapsed": false
   },
   "outputs": [],
   "source": [
    "import pickle\n",
    "import numpy as np\n",
    "from scipy.spatial.distance import cosine\n",
    "from scipy.stats import rankdata\n",
    "import random"
   ]
  },
  {
   "cell_type": "code",
   "execution_count": null,
   "metadata": {
    "collapsed": false
   },
   "outputs": [],
   "source": []
  },
  {
   "cell_type": "markdown",
   "metadata": {
    "collapsed": false
   },
   "source": [
    "# load data"
   ]
  },
  {
   "cell_type": "code",
   "execution_count": 2,
   "metadata": {
    "collapsed": false
   },
   "outputs": [
    {
     "name": "stdout",
     "output_type": "stream",
     "text": [
      "load data\n"
     ]
    }
   ],
   "source": [
    "#  read data\n",
    "\n",
    "print 'load data'\n",
    "train, valid, test = pickle.load( open('../data/samsungQA/SA_data.pkl'))"
   ]
  },
  {
   "cell_type": "code",
   "execution_count": 3,
   "metadata": {
    "collapsed": false
   },
   "outputs": [
    {
     "name": "stdout",
     "output_type": "stream",
     "text": [
      "10000\n",
      "100000\n",
      "163616\n",
      "163616\n"
     ]
    }
   ],
   "source": [
    "idx = []\n",
    "for i in xrange(10000):\n",
    "    idx.append(i*10)\n",
    "    \n",
    "test_q = test['c']\n",
    "test_q = [test_q[x] for x in idx]\n",
    "test_a = test['r']\n",
    "test_q = [ ' '.join( [ str(x) for x in a ] ) for a in test_q ]\n",
    "test_a = [ ' '.join( [ str(x) for x in a ] ) for a in test_a ]\n",
    "print len(test_q)\n",
    "print len(test_a)\n",
    "\n",
    "train_q = [ ' '.join( [ str(x) for x in a ] ) for a in train['c'] ]\n",
    "train_a = [ ' '.join( [ str(x) for x in a ] ) for a in train['r'] ]\n",
    "print len(train_q)\n",
    "print len(train_a)"
   ]
  },
  {
   "cell_type": "code",
   "execution_count": null,
   "metadata": {
    "collapsed": true
   },
   "outputs": [],
   "source": []
  },
  {
   "cell_type": "markdown",
   "metadata": {},
   "source": [
    "## calculate tf-idf value of the corpus (train)"
   ]
  },
  {
   "cell_type": "code",
   "execution_count": 6,
   "metadata": {
    "collapsed": false
   },
   "outputs": [
    {
     "name": "stdout",
     "output_type": "stream",
     "text": [
      "327232\n",
      "110000\n"
     ]
    }
   ],
   "source": [
    "from sklearn.feature_extraction.text import TfidfVectorizer\n",
    "\n",
    "train_corpus = []\n",
    "train_corpus.extend(train_q)\n",
    "train_corpus.extend(train_a)\n",
    "\n",
    "test_corpus = []\n",
    "test_corpus.extend(test_q)\n",
    "test_corpus.extend(test_a)\n",
    "\n",
    "print len(train_corpus)\n",
    "print len(test_corpus)"
   ]
  },
  {
   "cell_type": "code",
   "execution_count": 8,
   "metadata": {
    "collapsed": false
   },
   "outputs": [
    {
     "data": {
      "text/plain": [
       "26555"
      ]
     },
     "execution_count": 8,
     "metadata": {},
     "output_type": "execute_result"
    }
   ],
   "source": [
    "# calculate tf-idf\n",
    "tfidfv = TfidfVectorizer(ngram_range=(1,1)).fit( train_corpus )\n",
    "len(tfidfv.vocabulary_)"
   ]
  },
  {
   "cell_type": "code",
   "execution_count": 19,
   "metadata": {
    "collapsed": false
   },
   "outputs": [],
   "source": [
    "# tf-idf\n",
    "test_tfidf_q = tfidfv.transform(test_q)\n",
    "test_tfidf_a = tfidfv.transform(test_a)\n",
    "\n",
    "test_tfidf_q_10 = []\n",
    "for x in test_tfidf_q:\n",
    "    test_tfidf_q_10.append(x)\n",
    "    test_tfidf_q_10.append(x)\n",
    "    test_tfidf_q_10.append(x)\n",
    "    test_tfidf_q_10.append(x)\n",
    "    test_tfidf_q_10.append(x)\n",
    "    test_tfidf_q_10.append(x)\n",
    "    test_tfidf_q_10.append(x)\n",
    "    test_tfidf_q_10.append(x)\n",
    "    test_tfidf_q_10.append(x)\n",
    "    test_tfidf_q_10.append(x)\n",
    "\n",
    "print np.shape(test_tfidf_q_10)\n",
    "print np.shape(test_tfidf_a)\n",
    "print test_tfidf_q_10[0].toarray()[0]\n",
    "print test_tfidf_a[0].toarray()[0]"
   ]
  },
  {
   "cell_type": "markdown",
   "metadata": {},
   "source": [
    "## calculate similarity"
   ]
  },
  {
   "cell_type": "code",
   "execution_count": 10,
   "metadata": {
    "collapsed": false
   },
   "outputs": [
    {
     "data": {
      "text/plain": [
       "100000"
      ]
     },
     "execution_count": 10,
     "metadata": {},
     "output_type": "execute_result"
    }
   ],
   "source": [
    "# cos-sim\n",
    "from scipy.spatial.distance import cosine\n",
    "cos_sim = [ cosine(x.toarray()[0], y.toarray()[0]) for x,y in zip(test_tfidf_q_10, test_tfidf_a) ]\n",
    "len(cos_sim)"
   ]
  },
  {
   "cell_type": "code",
   "execution_count": 11,
   "metadata": {
    "collapsed": false
   },
   "outputs": [
    {
     "name": "stdout",
     "output_type": "stream",
     "text": [
      "10000\n",
      "[ 0.61844372  0.98767536  0.98485391  0.89969295  0.99574509  0.99677441\n",
      "  0.98153741  0.98867731  0.98259301  0.99755754]\n",
      "[ 1  6  5  2  8  9  3  7  4 10]\n"
     ]
    }
   ],
   "source": [
    "cos_sim_10 = np.reshape(cos_sim, [10000, 10])\n",
    "print len(cos_sim_10)\n",
    "print cos_sim_10[0]\n",
    "print rankdata(cos_sim_10[0], method='min')"
   ]
  },
  {
   "cell_type": "markdown",
   "metadata": {},
   "source": [
    "### 1 in 10 case"
   ]
  },
  {
   "cell_type": "code",
   "execution_count": 12,
   "metadata": {
    "collapsed": false
   },
   "outputs": [
    {
     "name": "stdout",
     "output_type": "stream",
     "text": [
      "[ 1  9  5  7  2  4  6  3  8 10]\n",
      "0.8346\n",
      "0.8974\n",
      "0.9539\n"
     ]
    }
   ],
   "source": [
    "rank = [ rankdata(x, method='min') for x in cos_sim_10 ]\n",
    "print rank[1]\n",
    "\n",
    "# 1 in 10\n",
    "print sum([1 for x in rank if x[0] <= 1]) / float(10000)\n",
    "print sum([1 for x in rank if x[0] <= 2]) / float(10000)\n",
    "print sum([1 for x in rank if x[0] <= 5]) / float(10000)"
   ]
  },
  {
   "cell_type": "markdown",
   "metadata": {
    "collapsed": false
   },
   "source": [
    "### 1 in 2 case"
   ]
  },
  {
   "cell_type": "code",
   "execution_count": 17,
   "metadata": {
    "collapsed": false
   },
   "outputs": [
    {
     "data": {
      "text/plain": [
       "0.9376"
      ]
     },
     "execution_count": 17,
     "metadata": {},
     "output_type": "execute_result"
    }
   ],
   "source": [
    "sum = 0\n",
    "for x in cos_sim_10:\n",
    "    y_true = x[0]\n",
    "    y_false = random.choice(x[1:])\n",
    "    if y_true < y_false:\n",
    "        sum += 1\n",
    "sum / float(10000)        "
   ]
  },
  {
   "cell_type": "code",
   "execution_count": null,
   "metadata": {
    "collapsed": true
   },
   "outputs": [],
   "source": []
  }
 ],
 "metadata": {
  "kernelspec": {
   "display_name": "Python 2",
   "language": "python",
   "name": "python2"
  },
  "language_info": {
   "codemirror_mode": {
    "name": "ipython",
    "version": 2
   },
   "file_extension": ".py",
   "mimetype": "text/x-python",
   "name": "python",
   "nbconvert_exporter": "python",
   "pygments_lexer": "ipython2",
   "version": "2.7.12"
  }
 },
 "nbformat": 4,
 "nbformat_minor": 2
}
